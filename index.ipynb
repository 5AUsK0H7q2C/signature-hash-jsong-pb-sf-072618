{
 "cells": [
  {
   "cell_type": "markdown",
   "metadata": {},
   "source": [
    "# Signature Hashes and Validation\n",
    "\n",
    "Perhaps the trickiest part of validating a transaction is the process of checking its signatures. A transaction typically has at least one signature per input. If there are multisig outputs being spent, there may be more. As we learned earlier, the ECDSA signature algorithm requires that for each input, we need the public key (P), the signature hash (z), and the Signature (r,s). Once these are determined, the process of verifying the signature is pretty simple.\n",
    "\n",
    "```python\n",
    "point = Point.parse(sec)\n",
    "signature = Signature.parse(der)\n",
    "point.verify(z, signature)  # True\n",
    "```\n",
    "\n",
    "The sec and der formats make getting the P, r and s pretty simple. The hard part is getting the actual signature hash (z). You would think that this would be easy since you can just hash the transaction. But you can't do that since the signature itself is part of the scriptSig and a signature can't sign itself.\n",
    "\n",
    "Instead, what you need to do is to modify the transaction before actually signing it. That is, you have to compute the z in a very particular way. The procedure is as follows."
   ]
  },
  {
   "cell_type": "markdown",
   "metadata": {},
   "source": [
    "### Test Driven Exercise"
   ]
  },
  {
   "cell_type": "code",
   "execution_count": 9,
   "metadata": {},
   "outputs": [],
   "source": [
    "from io import BytesIO\n",
    "from helper import (\n",
    "    SIGHASH_ALL,\n",
    "    int_to_little_endian,\n",
    "    double_sha256\n",
    ")\n",
    "from tx import Tx, TxIn\n",
    "\n",
    "\n",
    "class Tx(Tx):\n",
    "\n",
    "\n",
    "    def sig_hash(self, input_index, hash_type):\n",
    "        '''Returns the integer representation of the hash that needs to get\n",
    "        signed for index input_index'''\n",
    "        # create a new set of tx_ins (alt_tx_ins)\n",
    "        # iterate over self.tx_ins\n",
    "            # create a new TxIn that has a blank script_sig (b'') and add to alt_tx_ins\n",
    "        # grab the input at the input_index\n",
    "        # grab the script_pubkey of the input\n",
    "        # the script_sig of the signing_input should be script_pubkey\n",
    "        # create an alternate transaction with the modified tx_ins\n",
    "        # add the hash_type int 4 bytes, little endian\n",
    "        # get the double_sha256 of the tx serialization\n",
    "        # convert this to a big-endian integer using int.from_bytes(x, 'big')\n",
    "        pass"
   ]
  }
 ],
 "metadata": {
  "kernelspec": {
   "display_name": "Python 3",
   "language": "python",
   "name": "python3"
  },
  "language_info": {
   "codemirror_mode": {
    "name": "ipython",
    "version": 3
   },
   "file_extension": ".py",
   "mimetype": "text/x-python",
   "name": "python",
   "nbconvert_exporter": "python",
   "pygments_lexer": "ipython3",
   "version": "3.6.5"
  }
 },
 "nbformat": 4,
 "nbformat_minor": 2
}
